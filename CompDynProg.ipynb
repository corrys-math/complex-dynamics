{
 "cells": [
  {
   "cell_type": "code",
   "execution_count": 68,
   "metadata": {},
   "outputs": [],
   "source": [
    "import numpy as np\n",
    "import matplotlib.pyplot as plt\n",
    "import matplotlib.cm as cm"
   ]
  },
  {
   "cell_type": "code",
   "execution_count": 69,
   "metadata": {},
   "outputs": [],
   "source": [
    "from ipywidgets import interact, interactive\n",
    "from IPython.html import widgets  # this throws a deprecation warning, not sure how to fix/supress -- ignore for now\n",
    "from IPython.display import display"
   ]
  },
  {
   "cell_type": "code",
   "execution_count": 70,
   "metadata": {},
   "outputs": [],
   "source": [
    "%matplotlib notebook\n",
    "\n",
    "def g(a, b):   # used in the slider interactive for c in polynomial z^2+c\n",
    "    print('c = {:.2f}+{:.2f}i'.format(a,b))\n",
    "    return [a,b]\n",
    "\n",
    "def h(N):    # used in the slider interactive for N = number of terms to compute\n",
    "    return N\n",
    "\n",
    "def plot_iterates(cx, cy, max_iterations): # constructs 2 plots: (1) iterative sequence (2) c-values\n",
    "    cutoff = 10                            # cutoff for magnitudes\n",
    "    x = np.zeros(max_iterations)           # make 0-arrays to hold real and imaginary parts of sequence\n",
    "    y = np.zeros(max_iterations)\n",
    "    colors = plt.cm.get_cmap('RdYlBu')     # get colormap to indicated terms of sequence\n",
    "    escape = colors(np.linspace(0,1,len(y)))\n",
    "    count = 1\n",
    "    while count < max_iterations:          # iterates z^2+c starting at z=0\n",
    "        x[count] = cx + x[count-1]**2-y[count-1]**2\n",
    "        y[count] = cy + 2*x[count-1]*y[count-1]\n",
    "        if (x[count]**2 + y[count]**2) > cutoff**2: break # stop if magnitude gets larger than cutoff  \n",
    "        count += 1\n",
    "        \n",
    "    plt.figure(1) # open first figure for sequence\n",
    "    plt.clf()     # clear this figure (want to replace plot for each choice of c)\n",
    "    plt.colorbar(plt.scatter(x[0:count], y[0:count], c = range(count), cmap=colors)) # plot sequence with colorbar\n",
    "    plt.show()\n",
    "    seq_bound = max(max(abs(x)),max(abs(y))) # compute bound for real and imaginary parts of sequence\n",
    "    plot_bound = min(cutoff,seq_bound) + cutoff/100          # set bound for axes of plot\n",
    "    plt.xlim(-plot_bound,plot_bound)\n",
    "    plt.ylim(-plot_bound,plot_bound)\n",
    "    plt.title('number of terms shown = {:d}'.format(count))\n",
    "    plt.suptitle('sequence corresponding to c = {:.2f}+{:.2f}i'.format(cx,cy))\n",
    "    plt.gca().set_aspect('equal', adjustable='box')\n",
    "    plt.grid(axis='both')\n",
    "    plt.xlabel('real part')\n",
    "    plt.ylabel('imaginary part')\n",
    "    \n",
    "    plt.figure(2)  # open second figure for c-values\n",
    "    plt.scatter(cx, cy, color=escape[count-1]) # plot current c-value colored according to escape time\n",
    "    plt.xlim(-2.1,1.1)\n",
    "    plt.ylim(-1.1,1.1)\n",
    "    plt.suptitle('c-values')\n",
    "    plt.title('blue dots represent bounded sequences')\n",
    "    plt.gca().set_aspect('equal', adjustable='box')\n",
    "    plt.grid(b=True, axis='both')\n",
    "    plt.xlabel('real part')\n",
    "    plt.ylabel('imaginary part')\n",
    "       \n",
    "def on_button_clicked(b): # calls plot_iterates when button is clicked\n",
    "    plot_iterates(cx=c.result[0],cy=c.result[1], max_iterations=d.result)"
   ]
  },
  {
   "cell_type": "code",
   "execution_count": 71,
   "metadata": {
    "scrolled": false
   },
   "outputs": [
    {
     "data": {
      "application/vnd.jupyter.widget-view+json": {
       "model_id": "8b4e0872c8ac4062b9f429be3f0f0ebf",
       "version_major": 2,
       "version_minor": 0
      },
      "text/plain": [
       "interactive(children=(FloatSlider(value=-0.5, description='a', max=1.0, min=-2.0, step=0.01), FloatSlider(valu…"
      ]
     },
     "metadata": {},
     "output_type": "display_data"
    },
    {
     "data": {
      "application/vnd.jupyter.widget-view+json": {
       "model_id": "167aa6b616a54b688fdbe4384e27b012",
       "version_major": 2,
       "version_minor": 0
      },
      "text/plain": [
       "interactive(children=(IntSlider(value=500, description='N', max=1000, min=10, step=10), Output()), _dom_classe…"
      ]
     },
     "metadata": {},
     "output_type": "display_data"
    },
    {
     "data": {
      "application/vnd.jupyter.widget-view+json": {
       "model_id": "e73cac1ddf224b44914284ba73514a6b",
       "version_major": 2,
       "version_minor": 0
      },
      "text/plain": [
       "Button(description='Create Plots', style=ButtonStyle())"
      ]
     },
     "metadata": {},
     "output_type": "display_data"
    }
   ],
   "source": [
    "c = interactive(g, a=(-2.00,1.00,0.01), b=(-1.00,1.00,0.01)) # create and display c-slider\n",
    "display(c)\n",
    "\n",
    "d = interactive(h, N=(10,1000,10))  # create and display N-slider\n",
    "display(d)\n",
    "\n",
    "button = widgets.Button(description=\"Create Plots\") # create and display plot button\n",
    "display(button)\n",
    "\n",
    "button.on_click(on_button_clicked) # call on_button_clicked with user clicks button"
   ]
  },
  {
   "cell_type": "markdown",
   "metadata": {},
   "source": [
    "Specify a polynomial $z^2+c$ by choosing the real and imaginary parts of $c=a+bi$ with the sliders above.\n",
    "\n",
    "Also choose the number of terms $N$ to compute.\n",
    "\n",
    "When you click the button, two plots will be created:\n",
    "\n",
    "The first plot shows at most the first $N$ terms obtained by iterating $z^2+c$ starting with $z_0=0$;\n",
    "terms are only displayed if their magnitudes are less than 10. Initial terms are red and later terms are blue.\n",
    "\n",
    "The second plot shows the location of $c$, colored according to the index of the last term\n",
    "with magnitude less than 10. So, $c$ will be colored red if the terms get large quickly,\n",
    "and it will be colored blue if all of the terms have magnitude less than 10.\n",
    "The second plot will display the locations of all previously chosen values for c."
   ]
  },
  {
   "cell_type": "code",
   "execution_count": null,
   "metadata": {},
   "outputs": [],
   "source": []
  }
 ],
 "metadata": {
  "kernelspec": {
   "display_name": "Python 3",
   "language": "python",
   "name": "python3"
  },
  "language_info": {
   "codemirror_mode": {
    "name": "ipython",
    "version": 3
   },
   "file_extension": ".py",
   "mimetype": "text/x-python",
   "name": "python",
   "nbconvert_exporter": "python",
   "pygments_lexer": "ipython3",
   "version": "3.7.0"
  }
 },
 "nbformat": 4,
 "nbformat_minor": 2
}
