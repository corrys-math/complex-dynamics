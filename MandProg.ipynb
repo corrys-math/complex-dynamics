{
 "cells": [
  {
   "cell_type": "code",
   "execution_count": 92,
   "metadata": {},
   "outputs": [],
   "source": [
    "import numpy as np\n",
    "import matplotlib.pyplot as plt\n",
    "import matplotlib.cm as cm"
   ]
  },
  {
   "cell_type": "code",
   "execution_count": 93,
   "metadata": {},
   "outputs": [],
   "source": [
    "from ipywidgets import interact, interactive\n",
    "from IPython.html import widgets  # this throws a deprecation warning, not sure how to fix/supress -- ignore for now\n",
    "from IPython.display import display"
   ]
  },
  {
   "cell_type": "code",
   "execution_count": 94,
   "metadata": {},
   "outputs": [],
   "source": [
    "%matplotlib notebook\n",
    "\n",
    "def f(x_min, x_max, y_min, y_max): # used in the interactive for the x- and y-range sliders\n",
    "    if x_min > x_max:\n",
    "        print('ERROR: choose x_max > x_min')\n",
    "    elif y_min > y_max:\n",
    "        print('ERROR: choose y_max > y_min')\n",
    "    else:\n",
    "        print('x range = [{:.3f},{:.3f}]'.format(x_min,x_max))\n",
    "        print('y range = [{:.3f},{:.3f}]'.format(y_min,y_max))\n",
    "        return [x_min,x_max,y_min,y_max]\n",
    "       \n",
    "def plot_mand_portion(x_min, x_max, y_min, y_max): # plots the mandelbrot set in the given range\n",
    "    colors = plt.cm.get_cmap('RdYlBu')             # get colormap to indicate boundedness\n",
    "    cutoff = 10                                    # set cutoff for magnitudes\n",
    "    max_iterations = 50                            # set max number of iterations for each c-value\n",
    "    ds = (x_max - x_min) / 300                     # step-value determining resolution\n",
    "    X = np.arange(x_min, x_max + ds, ds)\n",
    "    Y = np.arange(y_min, y_max + ds, ds)\n",
    "    data = np.zeros( (X.size, Y.size), dtype='uint')   # matrix of zeros to hold results\n",
    "    for i in range(X.size):                            # range over c-values in given range\n",
    "        for j in range(Y.size):\n",
    "            x0, y0 = X[i], Y[j]\n",
    "            x, y = x0, y0\n",
    "            count = 0\n",
    "            while count < max_iterations:\n",
    "                x, y = (x0+x*x-y*y, y0+2*x*y)\n",
    "                if (x*x + y*y) > 10: break             # iterate until magnitude is greater than 10\n",
    "                count += 1\n",
    "            data[i,j] = count                          # set entry for current c equal to escape term\n",
    "    plt.imshow(data.transpose(), interpolation='nearest', cmap=colors, extent=[x_min,x_max,-y_max,-y_min])\n",
    "                                           # something weird with the orientation of the image, these signs on y-values\n",
    "                                           # fix it, but I am not sure why\n",
    "    plt.suptitle('c-values')\n",
    "    plt.title('blue represents bounded sequences')\n",
    "    plt.gca().set_aspect('equal', adjustable='box')\n",
    "    plt.xlabel('real part')\n",
    "    plt.ylabel('imaginary part')\n",
    "    \n",
    "def on_button1_clicked(b): # plots full mandelbrot set when first button is clicked by user\n",
    "    plt.figure(1)\n",
    "    plt.clf()\n",
    "    plot_mand_portion(x_min = -2.1, x_max = 1.1, y_min = -1.1, y_max = 1.1)\n",
    "    \n",
    "def on_button2_clicked(b): # plots selected portion of mandelbrot set when second button is clicked by user\n",
    "    plt.figure(2)\n",
    "    plt.clf()\n",
    "    plot_mand_portion(x_min=a.result[0],x_max=a.result[1], y_min=-a.result[3], y_max=-a.result[2])\n",
    "        "
   ]
  },
  {
   "cell_type": "code",
   "execution_count": 95,
   "metadata": {
    "scrolled": false
   },
   "outputs": [
    {
     "data": {
      "application/vnd.jupyter.widget-view+json": {
       "model_id": "cd8234660acc4e339a3ef76b65b736da",
       "version_major": 2,
       "version_minor": 0
      },
      "text/plain": [
       "Button(description='Plot c-values', style=ButtonStyle())"
      ]
     },
     "metadata": {},
     "output_type": "display_data"
    }
   ],
   "source": [
    "button1 = widgets.Button(description=\"Plot c-values\")  # create and display first plot button\n",
    "display(button1)\n",
    "\n",
    "button1.on_click(on_button1_clicked)  # call on_button1_clicked with user clicks button1"
   ]
  },
  {
   "cell_type": "markdown",
   "metadata": {},
   "source": [
    "Clicking the button above will produce a plot of $c$-values, color coded according to whether the corresponding sequence has terms with magnitude larger than 10 or not: blue indicates that all terms of the corresponding sequence remain inside the disc of radius 10.\n",
    "\n",
    "If you click on the \"Zoom\" button in the panel below the figure, you can draw a rectangle on the picture and zoom in. But the resolution will then be poor. Use the sliders below to select the $x$- and $y$-range of your smaller rectangle, and then click the \"Plot\" button to produce a new picture with better resolution.\n",
    "\n",
    "You can continue to zoom in on iteresting features in the second plot, and then use the sliders to improve the resolution; clicking the \"Plot\" button will replace the second picture. Click the \"Plot c-values\" button above to re-generate the original full picture."
   ]
  },
  {
   "cell_type": "code",
   "execution_count": 96,
   "metadata": {},
   "outputs": [
    {
     "data": {
      "application/vnd.jupyter.widget-view+json": {
       "model_id": "bd156955729748ea852354cb31ee5712",
       "version_major": 2,
       "version_minor": 0
      },
      "text/plain": [
       "interactive(children=(FloatSlider(value=-0.5, description='x_min', max=1.1, min=-2.1, step=0.001), FloatSlider…"
      ]
     },
     "metadata": {},
     "output_type": "display_data"
    },
    {
     "data": {
      "application/vnd.jupyter.widget-view+json": {
       "model_id": "1ebc11cc946c4425aadba2458784fbd1",
       "version_major": 2,
       "version_minor": 0
      },
      "text/plain": [
       "Button(description='Plot', style=ButtonStyle())"
      ]
     },
     "metadata": {},
     "output_type": "display_data"
    }
   ],
   "source": [
    "a = interactive(f, x_min=(-2.1,1.1,.001),x_max=(-2.1,1.1,.001),\n",
    "                y_min=(-1.1,1.1,.001),y_max=(-1.1,1.1,.001),)  # create and display x-slider and y-slider\n",
    "display(a)\n",
    "\n",
    "button2 = widgets.Button(description=\"Plot\") # create and display second plot button\n",
    "display(button2)\n",
    "\n",
    "button2.on_click(on_button2_clicked) # call on_button2_clicked with user clicks button2"
   ]
  },
  {
   "cell_type": "code",
   "execution_count": null,
   "metadata": {},
   "outputs": [],
   "source": []
  }
 ],
 "metadata": {
  "kernelspec": {
   "display_name": "Python 3",
   "language": "python",
   "name": "python3"
  },
  "language_info": {
   "codemirror_mode": {
    "name": "ipython",
    "version": 3
   },
   "file_extension": ".py",
   "mimetype": "text/x-python",
   "name": "python",
   "nbconvert_exporter": "python",
   "pygments_lexer": "ipython3",
   "version": "3.7.0"
  }
 },
 "nbformat": 4,
 "nbformat_minor": 2
}
